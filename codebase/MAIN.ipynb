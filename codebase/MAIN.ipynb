{
 "cells": [
  {
   "cell_type": "markdown",
   "id": "e439d356",
   "metadata": {},
   "source": [
    "# Wordle Solver\n",
    "**Summary:** This Python script aims to solve the daily [Wordle](https://www.nytimes.com/games/wordle/index.html) puzzle as effectively as possible."
   ]
  },
  {
   "cell_type": "markdown",
   "id": "56091788",
   "metadata": {},
   "source": [
    "**To do:**\n",
    "- You can sometimes reduce the uncertainty more by using a word that is definitely not the right answer, but includes more relevant letters than the remaining possible words\n",
    "- When playing the actual wordle game, if a letter appears elsewhere in a word and is green, then the same letter in other positions will be \"red\" as opposed to \"orange\". This sometimes throws an error.\n",
    "- The actual game uses dark and light grey as opposed to red."
   ]
  },
  {
   "cell_type": "code",
   "execution_count": null,
   "id": "0b8f0916",
   "metadata": {
    "tags": []
   },
   "outputs": [
    {
     "name": "stdout",
     "output_type": "stream",
     "text": [
      "\n",
      "The next guess is:  aerie\n"
     ]
    },
    {
     "name": "stdin",
     "output_type": "stream",
     "text": [
      "Is this word accepted by the wordle app? [OPTIONS: Yes, No] Yes\n",
      "What is the colour of the first letter? [OPTIONS: Green, Orange, Red] Orange\n",
      "What is the colour of the second letter? [OPTIONS: Green, Orange, Red] Red\n",
      "What is the colour of the third letter? [OPTIONS: Green, Orange, Red] Red\n",
      "What is the colour of the fourth letter? [OPTIONS: Green, Orange, Red] Red\n",
      "What is the colour of the fifth letter? [OPTIONS: Green, Orange, Red] Red\n"
     ]
    },
    {
     "name": "stdout",
     "output_type": "stream",
     "text": [
      "Your final list is:  ['Orange', 'Red', 'Red', 'Red', 'Red']\n"
     ]
    },
    {
     "name": "stdin",
     "output_type": "stream",
     "text": [
      "Do you want to proceed? [Options: Yes, No] Yes\n"
     ]
    },
    {
     "name": "stdout",
     "output_type": "stream",
     "text": [
      "Number of possible words remaining: 391\n",
      "\n",
      "The next guess is:  satan\n",
      "\n",
      "The next guess is:  satan\n"
     ]
    },
    {
     "name": "stdin",
     "output_type": "stream",
     "text": [
      "Is this word accepted by the wordle app? [OPTIONS: Yes, No] No\n"
     ]
    },
    {
     "name": "stdout",
     "output_type": "stream",
     "text": [
      "\n",
      "The next guess is:  santa\n"
     ]
    },
    {
     "name": "stdin",
     "output_type": "stream",
     "text": [
      "Is this word accepted by the wordle app? [OPTIONS: Yes, No] No\n"
     ]
    },
    {
     "name": "stdout",
     "output_type": "stream",
     "text": [
      "\n",
      "The next guess is:  canal\n"
     ]
    },
    {
     "name": "stdin",
     "output_type": "stream",
     "text": [
      "Is this word accepted by the wordle app? [OPTIONS: Yes, No] Yes\n",
      "What is the colour of the first letter? [OPTIONS: Green, Orange, Red] Red\n",
      "What is the colour of the second letter? [OPTIONS: Green, Orange, Red] Orange\n",
      "What is the colour of the third letter? [OPTIONS: Green, Orange, Red] Green\n",
      "What is the colour of the fourth letter? [OPTIONS: Green, Orange, Red] Green\n",
      "What is the colour of the fifth letter? [OPTIONS: Green, Orange, Red] Red\n"
     ]
    },
    {
     "name": "stdout",
     "output_type": "stream",
     "text": [
      "Your final list is:  ['Red', 'Orange', 'Green', 'Green', 'Red']\n"
     ]
    },
    {
     "name": "stdin",
     "output_type": "stream",
     "text": [
      "Do you want to proceed? [Options: Yes, No] No\n",
      "You have selected 'No', which suggests you want to re-enter your colours. Are you sure you want to re-enter your colours? If you enter 'Yes', this will delete all your previous inputs, and you will be required to re-enter colours for positions 1 to 5. If you enter 'No', this will accept your existing input and proceed to the next stage of the wordle solver. Yes\n",
      "What is the colour of the first letter? [OPTIONS: Green, Orange, Red] Red\n",
      "What is the colour of the second letter? [OPTIONS: Green, Orange, Red] Red\n",
      "What is the colour of the third letter? [OPTIONS: Green, Orange, Red] Orange\n",
      "What is the colour of the fourth letter? [OPTIONS: Green, Orange, Red] Green\n",
      "What is the colour of the fifth letter? [OPTIONS: Green, Orange, Red] Red\n"
     ]
    },
    {
     "name": "stdout",
     "output_type": "stream",
     "text": [
      "Your final list is:  ['Red', 'Red', 'Orange', 'Green', 'Red']\n"
     ]
    },
    {
     "name": "stdin",
     "output_type": "stream",
     "text": [
      "Do you want to proceed? [Options: Yes, No] Yes\n"
     ]
    },
    {
     "name": "stdout",
     "output_type": "stream",
     "text": [
      "Number of possible words remaining: 14\n",
      "\n",
      "The next guess is:  human\n",
      "\n",
      "The next guess is:  human\n"
     ]
    }
   ],
   "source": [
    "#Install initial dependencies\n",
    "#!pip install -r requirements.txt\n",
    "\n",
    "#Import top level function\n",
    "from backend._2_helper_functions.process_user_inputs import run_wordle_solver\n",
    "\n",
    "#Run wordle solver\n",
    "solution=run_wordle_solver(mode=\"real_python\",next_word_selection=\"brute_force_simple\",rag_colours=None)\n",
    "\n",
    "#Options for \"mode\": \"real_python\", \"one_word\", \"100_words\", \"all_words\"\n",
    "#Options for \"next_word_selection\": \"random\",\"rank\",\"brute_force_simple\",\"brute_force_extended\"\n",
    "\n",
    "#Note:\n",
    "# -- \"real_python\" runs the wordle solver in python to help solve the real wordle of the day...\n",
    "#    ...using user RAG inputs for each successive word\n",
    "# -- \"one_word\" runs the wordle solver for just one specific word\n",
    "# -- \"100_words\" runs the wordle solver for 100 words. this is for initial testing, and is...\n",
    "#    ...much quicker to run than \"all_words\"\n",
    "# -- \"all_words\" runs the wordle solver across all available 5-letter...\n",
    "#    ...words. This is used to assess overall performance. \n",
    "\n",
    "#If using \"one_word\" mode, then the attributes of the solution object are:\n",
    "# - solution.actual_word = the actual word that we are trying to solve, which is currently randomly selected\n",
    "# - solution.final_guess = the word that we thing is the actual word, based on the output of our algorithms\n",
    "# - solution.n_guesses = the total number of guesses that it has taken to get to the final guess\n",
    "# - solution.t_solve = the total number of time that it has taken to get to the final guess\n",
    "\n",
    "#If using \"all_words\" or \"100_words\" mode, then the attributes of the solution object are:\n",
    "# - solution.n_guesses_all_words = a list of the number of guesses that it took to solve each word\n",
    "# - solution.t_solve_all_words = the total time that it took to solve all words in the dataset\n",
    "# - solution.basic_stats = basic descriptive statistics on the number of guesses for all words, including average and range"
   ]
  },
  {
   "cell_type": "code",
   "execution_count": 1,
   "id": "3a0c2d32-6843-49b6-81cb-95917e220fb4",
   "metadata": {},
   "outputs": [],
   "source": [
    "x={'tile1': 'orange', 'tile2': 'darkgrey', 'tile3': 'lightgrey', 'tile4': 'green', 'tile5': ''}"
   ]
  },
  {
   "cell_type": "code",
   "execution_count": 7,
   "id": "3bb460e8-c3e1-4041-8320-a632ff5813fe",
   "metadata": {},
   "outputs": [
    {
     "data": {
      "text/plain": [
       "'orange'"
      ]
     },
     "execution_count": 7,
     "metadata": {},
     "output_type": "execute_result"
    }
   ],
   "source": [
    "x['tile1']"
   ]
  },
  {
   "cell_type": "code",
   "execution_count": null,
   "id": "a316e8c4-023a-46fa-8233-174d27e035c9",
   "metadata": {},
   "outputs": [],
   "source": [
    "def tile_colour_mapping(colour as string):\n",
    "    if colour=='lightgrey' or colour==\"\":\n",
    "        colour_updated="
   ]
  }
 ],
 "metadata": {
  "kernelspec": {
   "display_name": "Python 3 (ipykernel)",
   "language": "python",
   "name": "python3"
  },
  "language_info": {
   "codemirror_mode": {
    "name": "ipython",
    "version": 3
   },
   "file_extension": ".py",
   "mimetype": "text/x-python",
   "name": "python",
   "nbconvert_exporter": "python",
   "pygments_lexer": "ipython3",
   "version": "3.8.15"
  }
 },
 "nbformat": 4,
 "nbformat_minor": 5
}
