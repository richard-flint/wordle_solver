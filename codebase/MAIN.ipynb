{
 "cells": [
  {
   "cell_type": "markdown",
   "id": "e439d356",
   "metadata": {},
   "source": [
    "# Wordle Solver\n",
    "**Summary:** This Python script aims to solve the daily [Wordle](https://www.nytimes.com/games/wordle/index.html) puzzle as effectively as possible."
   ]
  },
  {
   "cell_type": "markdown",
   "id": "56091788",
   "metadata": {},
   "source": [
    "**To do:**\n",
    "- You can sometimes reduce the uncertainty more by using a word that is definitely not the right answer, but includes more relevant letters than the remaining possible words\n",
    "- When playing the actual wordle game, if a letter appears elsewhere in a word and is green, then the same letter in other positions will be \"red\" as opposed to \"orange\". This sometimes throws an error.\n",
    "- The actual game uses dark and light grey as opposed to red."
   ]
  },
  {
   "cell_type": "code",
   "execution_count": 1,
   "id": "0b8f0916",
   "metadata": {
    "tags": []
   },
   "outputs": [
    {
     "name": "stdout",
     "output_type": "stream",
     "text": [
      "\n",
      "The next guess is:  aerie\n"
     ]
    },
    {
     "name": "stdin",
     "output_type": "stream",
     "text": [
      "Is this word accepted by the wordle app? [OPTIONS: Yes, No] Yes\n",
      "What is the colour of the first letter? [OPTIONS: Green, Orange, Red] G\n",
      "What is the colour of the second letter? [OPTIONS: Green, Orange, Red] O\n",
      "What is the colour of the third letter? [OPTIONS: Green, Orange, Red] O\n",
      "What is the colour of the fourth letter? [OPTIONS: Green, Orange, Red] R\n",
      "What is the colour of the fifth letter? [OPTIONS: Green, Orange, Red] O\n"
     ]
    },
    {
     "name": "stdout",
     "output_type": "stream",
     "text": [
      "Your final list is:  ['Green', 'Orange', 'Orange', 'Red', 'Orange']\n"
     ]
    },
    {
     "name": "stdin",
     "output_type": "stream",
     "text": [
      "Do you want to proceed? [Options: Yes, No] Y\n"
     ]
    },
    {
     "name": "stdout",
     "output_type": "stream",
     "text": [
      "Number of possible words remaining: 19\n",
      "\n",
      "The next guess is:  arena\n",
      "\n",
      "The next guess is:  arena\n"
     ]
    },
    {
     "name": "stdin",
     "output_type": "stream",
     "text": [
      "Is this word accepted by the wordle app? [OPTIONS: Yes, No] G\n"
     ]
    },
    {
     "name": "stdout",
     "output_type": "stream",
     "text": [
      "\n",
      "Input error. Re-enter input.\n"
     ]
    },
    {
     "name": "stdin",
     "output_type": "stream",
     "text": [
      "Is this word accepted by the wordle app? [OPTIONS: Yes, No] O\n"
     ]
    },
    {
     "name": "stdout",
     "output_type": "stream",
     "text": [
      "\n",
      "Input error. Re-enter input.\n"
     ]
    },
    {
     "name": "stdin",
     "output_type": "stream",
     "text": [
      "Is this word accepted by the wordle app? [OPTIONS: Yes, No] Y\n",
      "What is the colour of the first letter? [OPTIONS: Green, Orange, Red] G\n",
      "What is the colour of the second letter? [OPTIONS: Green, Orange, Red] O\n",
      "What is the colour of the third letter? [OPTIONS: Green, Orange, Red] O\n",
      "What is the colour of the fourth letter? [OPTIONS: Green, Orange, Red] R\n",
      "What is the colour of the fifth letter? [OPTIONS: Green, Orange, Red] O\n"
     ]
    },
    {
     "name": "stdout",
     "output_type": "stream",
     "text": [
      "Your final list is:  ['Green', 'Orange', 'Orange', 'Red', 'Orange']\n"
     ]
    },
    {
     "name": "stdin",
     "output_type": "stream",
     "text": [
      "Do you want to proceed? [Options: Yes, No] Y\n"
     ]
    },
    {
     "name": "stdout",
     "output_type": "stream",
     "text": [
      "Number of possible words remaining: 8\n",
      "\n",
      "The next guess is:  alger\n",
      "\n",
      "The next guess is:  alger\n"
     ]
    },
    {
     "name": "stdin",
     "output_type": "stream",
     "text": [
      "Is this word accepted by the wordle app? [OPTIONS: Yes, No] N\n"
     ]
    },
    {
     "name": "stdout",
     "output_type": "stream",
     "text": [
      "\n",
      "The next guess is:  alter\n"
     ]
    },
    {
     "ename": "KeyboardInterrupt",
     "evalue": "Interrupted by user",
     "output_type": "error",
     "traceback": [
      "\u001b[1;31m---------------------------------------------------------------------------\u001b[0m",
      "\u001b[1;31mKeyboardInterrupt\u001b[0m                         Traceback (most recent call last)",
      "Cell \u001b[1;32mIn[1], line 8\u001b[0m\n\u001b[0;32m      5\u001b[0m \u001b[38;5;28;01mfrom\u001b[39;00m \u001b[38;5;21;01mbackend\u001b[39;00m\u001b[38;5;21;01m.\u001b[39;00m\u001b[38;5;21;01m_2_helper_functions\u001b[39;00m\u001b[38;5;21;01m.\u001b[39;00m\u001b[38;5;21;01mprocess_user_inputs\u001b[39;00m \u001b[38;5;28;01mimport\u001b[39;00m run_wordle_solver\n\u001b[0;32m      7\u001b[0m \u001b[38;5;66;03m#Run wordle solver\u001b[39;00m\n\u001b[1;32m----> 8\u001b[0m solution\u001b[38;5;241m=\u001b[39m\u001b[43mrun_wordle_solver\u001b[49m\u001b[43m(\u001b[49m\u001b[43mmode\u001b[49m\u001b[38;5;241;43m=\u001b[39;49m\u001b[38;5;124;43m\"\u001b[39;49m\u001b[38;5;124;43mreal_python\u001b[39;49m\u001b[38;5;124;43m\"\u001b[39;49m\u001b[43m,\u001b[49m\u001b[43mnext_word_selection\u001b[49m\u001b[38;5;241;43m=\u001b[39;49m\u001b[38;5;124;43m\"\u001b[39;49m\u001b[38;5;124;43mbrute_force_simple\u001b[39;49m\u001b[38;5;124;43m\"\u001b[39;49m\u001b[43m,\u001b[49m\u001b[43mrag_colours\u001b[49m\u001b[38;5;241;43m=\u001b[39;49m\u001b[38;5;28;43;01mNone\u001b[39;49;00m\u001b[43m)\u001b[49m\n",
      "File \u001b[1;32m~\\OneDrive\\Documents\\GitHub\\wordle_solver\\codebase\\backend\\_2_helper_functions\\process_user_inputs.py:72\u001b[0m, in \u001b[0;36mrun_wordle_solver\u001b[1;34m(mode, next_word_selection, rag_colours)\u001b[0m\n\u001b[0;32m     69\u001b[0m true_word\u001b[38;5;241m=\u001b[39m\u001b[38;5;124m\"\u001b[39m\u001b[38;5;124munknown\u001b[39m\u001b[38;5;124m\"\u001b[39m\n\u001b[0;32m     71\u001b[0m \u001b[38;5;66;03m#Find word using wordle solver\u001b[39;00m\n\u001b[1;32m---> 72\u001b[0m guess_word,n_guesses\u001b[38;5;241m=\u001b[39m\u001b[43mfind_word_python\u001b[49m\u001b[43m(\u001b[49m\u001b[43mall_words\u001b[49m\u001b[43m,\u001b[49m\u001b[43mtrue_word\u001b[49m\u001b[43m,\u001b[49m\u001b[43mnext_word_selection\u001b[49m\u001b[43m,\u001b[49m\u001b[43mmode\u001b[49m\u001b[43m,\u001b[49m\u001b[43mrag_colours\u001b[49m\u001b[43m)\u001b[49m\n\u001b[0;32m     74\u001b[0m \u001b[38;5;66;03m#Output statistics\u001b[39;00m\n\u001b[0;32m     75\u001b[0m \u001b[38;5;28mprint\u001b[39m(\u001b[38;5;124m\"\u001b[39m\u001b[38;5;130;01m\\n\u001b[39;00m\u001b[38;5;124mThe word is: \u001b[39m\u001b[38;5;124m\"\u001b[39m, guess_word)\n",
      "File \u001b[1;32m~\\OneDrive\\Documents\\GitHub\\wordle_solver\\codebase\\backend\\_2_helper_functions\\find_word.py:79\u001b[0m, in \u001b[0;36mfind_word_python\u001b[1;34m(all_words, true_word, next_word_selection, mode, rag_colours)\u001b[0m\n\u001b[0;32m     75\u001b[0m \u001b[38;5;28;01mwhile\u001b[39;00m trial_word_check_flag\u001b[38;5;241m==\u001b[39m\u001b[38;5;241m0\u001b[39m:\n\u001b[0;32m     76\u001b[0m     \n\u001b[0;32m     77\u001b[0m     \u001b[38;5;66;03m#Check with users that trial word is accepted by the actual wordle app\u001b[39;00m\n\u001b[0;32m     78\u001b[0m     input_string\u001b[38;5;241m=\u001b[39m\u001b[38;5;124mf\u001b[39m\u001b[38;5;124m\"\u001b[39m\u001b[38;5;124mIs this word accepted by the wordle app? [OPTIONS: Yes, No]\u001b[39m\u001b[38;5;124m\"\u001b[39m\n\u001b[1;32m---> 79\u001b[0m     trial_word_check\u001b[38;5;241m=\u001b[39m\u001b[38;5;28;43minput\u001b[39;49m\u001b[43m(\u001b[49m\u001b[43minput_string\u001b[49m\u001b[43m)\u001b[49m\u001b[38;5;241m.\u001b[39mlower()[\u001b[38;5;241m0\u001b[39m] \u001b[38;5;66;03m#Take just the first letter and make lowercase \u001b[39;00m\n\u001b[0;32m     80\u001b[0m                                                     \u001b[38;5;66;03m#to account for different user inputs\u001b[39;00m\n\u001b[0;32m     81\u001b[0m     \n\u001b[0;32m     82\u001b[0m     \u001b[38;5;66;03m#If trial word is not accepted, we need to bin and get the next ebst trial word\u001b[39;00m\n\u001b[0;32m     83\u001b[0m     \u001b[38;5;28;01mif\u001b[39;00m trial_word_check\u001b[38;5;241m==\u001b[39m\u001b[38;5;124m\"\u001b[39m\u001b[38;5;124mn\u001b[39m\u001b[38;5;124m\"\u001b[39m:\n",
      "File \u001b[1;32m~\\anaconda3\\lib\\site-packages\\ipykernel\\kernelbase.py:1175\u001b[0m, in \u001b[0;36mKernel.raw_input\u001b[1;34m(self, prompt)\u001b[0m\n\u001b[0;32m   1171\u001b[0m \u001b[38;5;28;01mif\u001b[39;00m \u001b[38;5;129;01mnot\u001b[39;00m \u001b[38;5;28mself\u001b[39m\u001b[38;5;241m.\u001b[39m_allow_stdin:\n\u001b[0;32m   1172\u001b[0m     \u001b[38;5;28;01mraise\u001b[39;00m StdinNotImplementedError(\n\u001b[0;32m   1173\u001b[0m         \u001b[38;5;124m\"\u001b[39m\u001b[38;5;124mraw_input was called, but this frontend does not support input requests.\u001b[39m\u001b[38;5;124m\"\u001b[39m\n\u001b[0;32m   1174\u001b[0m     )\n\u001b[1;32m-> 1175\u001b[0m \u001b[38;5;28;01mreturn\u001b[39;00m \u001b[38;5;28;43mself\u001b[39;49m\u001b[38;5;241;43m.\u001b[39;49m\u001b[43m_input_request\u001b[49m\u001b[43m(\u001b[49m\n\u001b[0;32m   1176\u001b[0m \u001b[43m    \u001b[49m\u001b[38;5;28;43mstr\u001b[39;49m\u001b[43m(\u001b[49m\u001b[43mprompt\u001b[49m\u001b[43m)\u001b[49m\u001b[43m,\u001b[49m\n\u001b[0;32m   1177\u001b[0m \u001b[43m    \u001b[49m\u001b[38;5;28;43mself\u001b[39;49m\u001b[38;5;241;43m.\u001b[39;49m\u001b[43m_parent_ident\u001b[49m\u001b[43m[\u001b[49m\u001b[38;5;124;43m\"\u001b[39;49m\u001b[38;5;124;43mshell\u001b[39;49m\u001b[38;5;124;43m\"\u001b[39;49m\u001b[43m]\u001b[49m\u001b[43m,\u001b[49m\n\u001b[0;32m   1178\u001b[0m \u001b[43m    \u001b[49m\u001b[38;5;28;43mself\u001b[39;49m\u001b[38;5;241;43m.\u001b[39;49m\u001b[43mget_parent\u001b[49m\u001b[43m(\u001b[49m\u001b[38;5;124;43m\"\u001b[39;49m\u001b[38;5;124;43mshell\u001b[39;49m\u001b[38;5;124;43m\"\u001b[39;49m\u001b[43m)\u001b[49m\u001b[43m,\u001b[49m\n\u001b[0;32m   1179\u001b[0m \u001b[43m    \u001b[49m\u001b[43mpassword\u001b[49m\u001b[38;5;241;43m=\u001b[39;49m\u001b[38;5;28;43;01mFalse\u001b[39;49;00m\u001b[43m,\u001b[49m\n\u001b[0;32m   1180\u001b[0m \u001b[43m\u001b[49m\u001b[43m)\u001b[49m\n",
      "File \u001b[1;32m~\\anaconda3\\lib\\site-packages\\ipykernel\\kernelbase.py:1217\u001b[0m, in \u001b[0;36mKernel._input_request\u001b[1;34m(self, prompt, ident, parent, password)\u001b[0m\n\u001b[0;32m   1214\u001b[0m             \u001b[38;5;28;01mbreak\u001b[39;00m\n\u001b[0;32m   1215\u001b[0m \u001b[38;5;28;01mexcept\u001b[39;00m \u001b[38;5;167;01mKeyboardInterrupt\u001b[39;00m:\n\u001b[0;32m   1216\u001b[0m     \u001b[38;5;66;03m# re-raise KeyboardInterrupt, to truncate traceback\u001b[39;00m\n\u001b[1;32m-> 1217\u001b[0m     \u001b[38;5;28;01mraise\u001b[39;00m \u001b[38;5;167;01mKeyboardInterrupt\u001b[39;00m(\u001b[38;5;124m\"\u001b[39m\u001b[38;5;124mInterrupted by user\u001b[39m\u001b[38;5;124m\"\u001b[39m) \u001b[38;5;28;01mfrom\u001b[39;00m \u001b[38;5;28mNone\u001b[39m\n\u001b[0;32m   1218\u001b[0m \u001b[38;5;28;01mexcept\u001b[39;00m \u001b[38;5;167;01mException\u001b[39;00m:\n\u001b[0;32m   1219\u001b[0m     \u001b[38;5;28mself\u001b[39m\u001b[38;5;241m.\u001b[39mlog\u001b[38;5;241m.\u001b[39mwarning(\u001b[38;5;124m\"\u001b[39m\u001b[38;5;124mInvalid Message:\u001b[39m\u001b[38;5;124m\"\u001b[39m, exc_info\u001b[38;5;241m=\u001b[39m\u001b[38;5;28;01mTrue\u001b[39;00m)\n",
      "\u001b[1;31mKeyboardInterrupt\u001b[0m: Interrupted by user"
     ]
    }
   ],
   "source": [
    "#Install initial dependencies\n",
    "#!pip install -r requirements.txt\n",
    "\n",
    "#Import top level function\n",
    "from backend._2_helper_functions.process_user_inputs import run_wordle_solver\n",
    "\n",
    "#Run wordle solver\n",
    "solution=run_wordle_solver(mode=\"real_python\",next_word_selection=\"brute_force_simple\",rag_colours=None)\n",
    "\n",
    "#Options for \"mode\": \"real_python\", \"one_word\", \"100_words\", \"all_words\"\n",
    "#Options for \"next_word_selection\": \"random\",\"rank\",\"brute_force_simple\",\"brute_force_extended\"\n",
    "\n",
    "#Note:\n",
    "# -- \"real_python\" runs the wordle solver in python to help solve the real wordle of the day...\n",
    "#    ...using user RAG inputs for each successive word\n",
    "# -- \"one_word\" runs the wordle solver for just one specific word\n",
    "# -- \"100_words\" runs the wordle solver for 100 words. this is for initial testing, and is...\n",
    "#    ...much quicker to run than \"all_words\"\n",
    "# -- \"all_words\" runs the wordle solver across all available 5-letter...\n",
    "#    ...words. This is used to assess overall performance. \n",
    "\n",
    "#If using \"one_word\" mode, then the attributes of the solution object are:\n",
    "# - solution.actual_word = the actual word that we are trying to solve, which is currently randomly selected\n",
    "# - solution.final_guess = the word that we thing is the actual word, based on the output of our algorithms\n",
    "# - solution.n_guesses = the total number of guesses that it has taken to get to the final guess\n",
    "# - solution.t_solve = the total number of time that it has taken to get to the final guess\n",
    "\n",
    "#If using \"all_words\" or \"100_words\" mode, then the attributes of the solution object are:\n",
    "# - solution.n_guesses_all_words = a list of the number of guesses that it took to solve each word\n",
    "# - solution.t_solve_all_words = the total time that it took to solve all words in the dataset\n",
    "# - solution.basic_stats = basic descriptive statistics on the number of guesses for all words, including average and range"
   ]
  },
  {
   "cell_type": "code",
   "execution_count": 1,
   "id": "3a0c2d32-6843-49b6-81cb-95917e220fb4",
   "metadata": {},
   "outputs": [],
   "source": [
    "x={'tile1': 'orange', 'tile2': 'darkgrey', 'tile3': 'lightgrey', 'tile4': 'green', 'tile5': ''}"
   ]
  },
  {
   "cell_type": "code",
   "execution_count": 7,
   "id": "3bb460e8-c3e1-4041-8320-a632ff5813fe",
   "metadata": {},
   "outputs": [
    {
     "data": {
      "text/plain": [
       "'orange'"
      ]
     },
     "execution_count": 7,
     "metadata": {},
     "output_type": "execute_result"
    }
   ],
   "source": [
    "x['tile1']"
   ]
  },
  {
   "cell_type": "code",
   "execution_count": null,
   "id": "a316e8c4-023a-46fa-8233-174d27e035c9",
   "metadata": {},
   "outputs": [],
   "source": [
    "def tile_colour_mapping(colour as string):\n",
    "    if colour=='lightgrey' or colour==\"\":\n",
    "        colour_updated="
   ]
  }
 ],
 "metadata": {
  "kernelspec": {
   "display_name": "Python 3 (ipykernel)",
   "language": "python",
   "name": "python3"
  },
  "language_info": {
   "codemirror_mode": {
    "name": "ipython",
    "version": 3
   },
   "file_extension": ".py",
   "mimetype": "text/x-python",
   "name": "python",
   "nbconvert_exporter": "python",
   "pygments_lexer": "ipython3",
   "version": "3.8.15"
  }
 },
 "nbformat": 4,
 "nbformat_minor": 5
}
