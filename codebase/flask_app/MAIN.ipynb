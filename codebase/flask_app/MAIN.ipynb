{
 "cells": [
  {
   "cell_type": "markdown",
   "id": "e439d356",
   "metadata": {},
   "source": [
    "# Wordle Solver\n",
    "**Summary:** This Python script aims to solve the daily [Wordle](https://www.nytimes.com/games/wordle/index.html) puzzle as effectively as possible."
   ]
  },
  {
   "cell_type": "code",
   "execution_count": 4,
   "id": "0b8f0916",
   "metadata": {
    "tags": []
   },
   "outputs": [
    {
     "name": "stderr",
     "output_type": "stream",
     "text": [
      "100% (29 of 29) |########################| Elapsed Time: 0:00:00 Time:  0:00:00\n"
     ]
    },
    {
     "name": "stdout",
     "output_type": "stream",
     "text": [
      "The final guess is:  inure\n",
      "The actual word is:  inure\n",
      "Number of guesses:  3\n",
      "Time taken to solve:  0.03608 s\n",
      "Estimated time to run on 100 words:  4.0 s, or  0.06  minutes\n",
      "Estimated time to run on all words:  116.0 s, or  1.93  minutes, or 0.03  hours\n"
     ]
    }
   ],
   "source": [
    "#Before running, ensure the kernel is set to the virtual environment \"myvenv\"\n",
    "\n",
    "#Import top level function\n",
    "from helper_functions.process_user_inputs import run_wordle_solver\n",
    "\n",
    "#Run wordle solver\n",
    "solution=run_wordle_solver(mode=\"one_word\",next_word_selection=\"brute_force_simple\",rag_colours=None)\n",
    "\n",
    "#Options for \"mode\": \"real_python\", \"one_word\", \"100_words\", \"all_words\"\n",
    "#Options for \"next_word_selection\": \"random\",\"rank\",\"brute_force_simple\",\"brute_force_extended\"\n",
    "\n",
    "#Note:\n",
    "# -- \"real_python\" runs the wordle solver in python to help solve the real wordle of the day...\n",
    "#    ...using user RAG inputs for each successive word\n",
    "# -- \"one_word\" runs the wordle solver for just one specific word\n",
    "# -- \"100_words\" runs the wordle solver for 100 words. this is for initial testing, and is...\n",
    "#    ...much quicker to run than \"all_words\"\n",
    "# -- \"all_words\" runs the wordle solver across all available 5-letter...\n",
    "#    ...words. This is used to assess overall performance. \n",
    "\n",
    "#If using \"one_word\" mode, then the attributes of the solution object are:\n",
    "# - solution.actual_word = the actual word that we are trying to solve, which is currently randomly selected\n",
    "# - solution.final_guess = the word that we thing is the actual word, based on the output of our algorithms\n",
    "# - solution.n_guesses = the total number of guesses that it has taken to get to the final guess\n",
    "# - solution.t_solve = the total number of time that it has taken to get to the final guess\n",
    "\n",
    "#If using \"all_words\" or \"100_words\" mode, then the attributes of the solution object are:\n",
    "# - solution.n_guesses_all_words = a list of the number of guesses that it took to solve each word\n",
    "# - solution.t_solve_all_words = the total time that it took to solve all words in the dataset\n",
    "# - solution.basic_stats = basic descriptive statistics on the number of guesses for all words, including average and range"
   ]
  }
 ],
 "metadata": {
  "kernelspec": {
   "display_name": "myvenv",
   "language": "python",
   "name": "myvenv"
  },
  "language_info": {
   "codemirror_mode": {
    "name": "ipython",
    "version": 3
   },
   "file_extension": ".py",
   "mimetype": "text/x-python",
   "name": "python",
   "nbconvert_exporter": "python",
   "pygments_lexer": "ipython3",
   "version": "3.8.15"
  }
 },
 "nbformat": 4,
 "nbformat_minor": 5
}
