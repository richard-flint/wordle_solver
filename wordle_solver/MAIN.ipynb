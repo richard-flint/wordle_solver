{
 "cells": [
  {
   "cell_type": "markdown",
   "id": "8da1cf16-d486-46d8-974e-0468d8f24688",
   "metadata": {},
   "source": [
    "# Wordle Solver\n",
    "**Summary:** This Python script aims to solve the daily [Wordle](https://www.nytimes.com/games/wordle/index.html) puzzle as effectively as possible."
   ]
  },
  {
   "cell_type": "markdown",
   "id": "c68837a6-2327-4fc7-ba02-c76e750b4ba5",
   "metadata": {},
   "source": [
    "**To do:**\n",
    "- You can sometimes reduce the uncertainty more by using a word that is definitely not the right answer, but includes more relevant letters than the remaining possible words\n",
    "- When playing the actual wordle game, if a letter appears elsewhere in a word and is green, then the same letter in other positions will be \"red\" as opposed to \"orange\". This sometimes throws an error.\n",
    "- The actual game uses dark and light grey as opposed to red."
   ]
  },
  {
   "cell_type": "code",
   "execution_count": 1,
   "id": "83bb44c9-420f-4614-a972-87742303d3d2",
   "metadata": {
    "tags": []
   },
   "outputs": [
    {
     "name": "stderr",
     "output_type": "stream",
     "text": [
      "C:\\Users\\richa\\anaconda3\\lib\\site-packages\\numpy\\_distributor_init.py:30: UserWarning: loaded more than 1 DLL from .libs:\n",
      "C:\\Users\\richa\\anaconda3\\lib\\site-packages\\numpy\\.libs\\libopenblas.PYQHXLVVQ7VESDPUVUADXEVJOBGHJPAY.gfortran-win_amd64.dll\n",
      "C:\\Users\\richa\\anaconda3\\lib\\site-packages\\numpy\\.libs\\libopenblas.XWYDX2IKJW2NMTWSFYNGFUWKQU3LYTCZ.gfortran-win_amd64.dll\n",
      "  warnings.warn(\"loaded more than 1 DLL from .libs:\\n%s\" %\n"
     ]
    },
    {
     "name": "stdout",
     "output_type": "stream",
     "text": [
      "\n",
      "The next guess is:  abide\n"
     ]
    },
    {
     "name": "stdin",
     "output_type": "stream",
     "text": [
      "What is the colour of the first letter? [OPTIONS: Green, Orange, Red] r\n",
      "What is the colour of the second letter? [OPTIONS: Green, Orange, Red] r\n",
      "What is the colour of the third letter? [OPTIONS: Green, Orange, Red] g\n",
      "What is the colour of the fourth letter? [OPTIONS: Green, Orange, Red] r\n",
      "What is the colour of the fifth letter? [OPTIONS: Green, Orange, Red] r\n"
     ]
    },
    {
     "name": "stdout",
     "output_type": "stream",
     "text": [
      "Your final list is:  ['Red', 'Red', 'Green', 'Red', 'Red']\n"
     ]
    },
    {
     "name": "stdin",
     "output_type": "stream",
     "text": [
      "Do you want to proceed? [Options: Yes, No] y\n"
     ]
    },
    {
     "name": "stdout",
     "output_type": "stream",
     "text": [
      "Number of possible words remaining:  116\n",
      "\n",
      "The next guess is:  cliff\n"
     ]
    },
    {
     "name": "stdin",
     "output_type": "stream",
     "text": [
      "What is the colour of the first letter? [OPTIONS: Green, Orange, Red] r\n",
      "What is the colour of the second letter? [OPTIONS: Green, Orange, Red] r\n",
      "What is the colour of the third letter? [OPTIONS: Green, Orange, Red] g\n",
      "What is the colour of the fourth letter? [OPTIONS: Green, Orange, Red] r\n",
      "What is the colour of the fifth letter? [OPTIONS: Green, Orange, Red] r\n"
     ]
    },
    {
     "name": "stdout",
     "output_type": "stream",
     "text": [
      "Your final list is:  ['Red', 'Red', 'Green', 'Red', 'Red']\n"
     ]
    },
    {
     "name": "stdin",
     "output_type": "stream",
     "text": [
      "Do you want to proceed? [Options: Yes, No] asd\n"
     ]
    },
    {
     "name": "stdout",
     "output_type": "stream",
     "text": [
      "Input not accepted. Please re-enter with accepted input.\n"
     ]
    },
    {
     "name": "stdin",
     "output_type": "stream",
     "text": [
      "Do you want to proceed? [Options: Yes, No] nop\n"
     ]
    },
    {
     "name": "stdout",
     "output_type": "stream",
     "text": [
      "Input not accepted. Please re-enter with accepted input.\n"
     ]
    },
    {
     "name": "stdin",
     "output_type": "stream",
     "text": [
      "Do you want to proceed? [Options: Yes, No] n\n",
      "You have selected 'No', which suggests you want to re-enter your colours. Are you sure you want to re-enter your colours? If you enter 'Yes', this will delete all your previous inputs, and you will be required to re-enter colours for positions 1 to 5. If you enter 'No', this will accept your existing input and proceed to the next stage of the wordle solver. sg\n"
     ]
    },
    {
     "name": "stdout",
     "output_type": "stream",
     "text": [
      "Input not accepted. Please re-enter with accepted input.\n"
     ]
    },
    {
     "name": "stdin",
     "output_type": "stream",
     "text": [
      "You have selected 'No', which suggests you want to re-enter your colours. Are you sure you want to re-enter your colours? If you enter 'Yes', this will delete all your previous inputs, and you will be required to re-enter colours for positions 1 to 5. If you enter 'No', this will accept your existing input and proceed to the next stage of the wordle solver. n\n"
     ]
    },
    {
     "name": "stdout",
     "output_type": "stream",
     "text": [
      "Number of possible words remaining:  53\n",
      "\n",
      "The next guess is:  shish\n"
     ]
    },
    {
     "ename": "KeyboardInterrupt",
     "evalue": "Interrupted by user",
     "output_type": "error",
     "traceback": [
      "\u001b[1;31m---------------------------------------------------------------------------\u001b[0m",
      "\u001b[1;31mKeyboardInterrupt\u001b[0m                         Traceback (most recent call last)",
      "\u001b[1;32m~\\AppData\\Local\\Temp\\ipykernel_20884\\3655583851.py\u001b[0m in \u001b[0;36m<cell line: 8>\u001b[1;34m()\u001b[0m\n\u001b[0;32m      6\u001b[0m \u001b[1;33m\u001b[0m\u001b[0m\n\u001b[0;32m      7\u001b[0m \u001b[1;31m#Run wordle solver\u001b[0m\u001b[1;33m\u001b[0m\u001b[1;33m\u001b[0m\u001b[1;33m\u001b[0m\u001b[0m\n\u001b[1;32m----> 8\u001b[1;33m \u001b[0msolution\u001b[0m\u001b[1;33m=\u001b[0m\u001b[0mrun_wordle_solver\u001b[0m\u001b[1;33m(\u001b[0m\u001b[0mmode\u001b[0m\u001b[1;33m=\u001b[0m\u001b[1;34m\"real\"\u001b[0m\u001b[1;33m,\u001b[0m\u001b[0mnext_word_selection\u001b[0m\u001b[1;33m=\u001b[0m\u001b[1;34m\"rank\"\u001b[0m\u001b[1;33m)\u001b[0m\u001b[1;33m\u001b[0m\u001b[1;33m\u001b[0m\u001b[0m\n\u001b[0m\u001b[0;32m      9\u001b[0m \u001b[1;33m\u001b[0m\u001b[0m\n\u001b[0;32m     10\u001b[0m \u001b[1;31m#Options for \"mode\": \"real\", \"one_word\", \"100_words\", \"all_words\"\u001b[0m\u001b[1;33m\u001b[0m\u001b[1;33m\u001b[0m\u001b[1;33m\u001b[0m\u001b[0m\n",
      "\u001b[1;32m~\\OneDrive\\Documents\\GitHub\\wordle_solver\\wordle_solver\\process_user_inputs.py\u001b[0m in \u001b[0;36mrun_wordle_solver\u001b[1;34m(mode, next_word_selection)\u001b[0m\n\u001b[0;32m     70\u001b[0m \u001b[1;33m\u001b[0m\u001b[0m\n\u001b[0;32m     71\u001b[0m         \u001b[1;31m#Find word using wordle solver\u001b[0m\u001b[1;33m\u001b[0m\u001b[1;33m\u001b[0m\u001b[1;33m\u001b[0m\u001b[0m\n\u001b[1;32m---> 72\u001b[1;33m         \u001b[0mguess_word\u001b[0m\u001b[1;33m,\u001b[0m\u001b[0mn_guesses\u001b[0m\u001b[1;33m=\u001b[0m\u001b[0mfind_word\u001b[0m\u001b[1;33m(\u001b[0m\u001b[0mall_words\u001b[0m\u001b[1;33m,\u001b[0m\u001b[0mtrue_word\u001b[0m\u001b[1;33m,\u001b[0m\u001b[0mnext_word_selection\u001b[0m\u001b[1;33m,\u001b[0m\u001b[0mmode\u001b[0m\u001b[1;33m)\u001b[0m\u001b[1;33m\u001b[0m\u001b[1;33m\u001b[0m\u001b[0m\n\u001b[0m\u001b[0;32m     73\u001b[0m \u001b[1;33m\u001b[0m\u001b[0m\n\u001b[0;32m     74\u001b[0m         \u001b[1;31m#Output statistics\u001b[0m\u001b[1;33m\u001b[0m\u001b[1;33m\u001b[0m\u001b[1;33m\u001b[0m\u001b[0m\n",
      "\u001b[1;32m~\\OneDrive\\Documents\\GitHub\\wordle_solver\\wordle_solver\\find_word.py\u001b[0m in \u001b[0;36mfind_word\u001b[1;34m(all_words, true_word, next_word_selection, mode)\u001b[0m\n\u001b[0;32m     75\u001b[0m         \u001b[1;31m#If we are in \"real\" mode, this is done by the user\u001b[0m\u001b[1;33m\u001b[0m\u001b[1;33m\u001b[0m\u001b[1;33m\u001b[0m\u001b[0m\n\u001b[0;32m     76\u001b[0m         \u001b[1;32melif\u001b[0m \u001b[0mmode\u001b[0m\u001b[1;33m==\u001b[0m\u001b[1;34m\"real\"\u001b[0m\u001b[1;33m:\u001b[0m\u001b[1;33m\u001b[0m\u001b[1;33m\u001b[0m\u001b[0m\n\u001b[1;32m---> 77\u001b[1;33m             \u001b[0mrag_score\u001b[0m\u001b[1;33m=\u001b[0m\u001b[0mstp2\u001b[0m\u001b[1;33m.\u001b[0m\u001b[0mcheck_letters_manually\u001b[0m\u001b[1;33m(\u001b[0m\u001b[1;33m)\u001b[0m\u001b[1;33m\u001b[0m\u001b[1;33m\u001b[0m\u001b[0m\n\u001b[0m\u001b[0;32m     78\u001b[0m \u001b[1;33m\u001b[0m\u001b[0m\n\u001b[0;32m     79\u001b[0m         \u001b[1;31m#-----------------------------------------------------------------#\u001b[0m\u001b[1;33m\u001b[0m\u001b[1;33m\u001b[0m\u001b[1;33m\u001b[0m\u001b[0m\n",
      "\u001b[1;32m~\\OneDrive\\Documents\\GitHub\\wordle_solver\\wordle_solver\\helper_functions\\step_2_generate_rag_score\\generate_rag_score.py\u001b[0m in \u001b[0;36mcheck_letters_manually\u001b[1;34m()\u001b[0m\n\u001b[0;32m     65\u001b[0m                 \u001b[1;31m#Get colour\u001b[0m\u001b[1;33m\u001b[0m\u001b[1;33m\u001b[0m\u001b[1;33m\u001b[0m\u001b[0m\n\u001b[0;32m     66\u001b[0m                 \u001b[0minput_string\u001b[0m\u001b[1;33m=\u001b[0m\u001b[1;34mf\"What is the colour of the {position} letter? [OPTIONS: Green, Orange, Red]\"\u001b[0m\u001b[1;33m\u001b[0m\u001b[1;33m\u001b[0m\u001b[0m\n\u001b[1;32m---> 67\u001b[1;33m                 \u001b[0mcolour\u001b[0m\u001b[1;33m=\u001b[0m\u001b[0minput\u001b[0m\u001b[1;33m(\u001b[0m\u001b[0minput_string\u001b[0m\u001b[1;33m)\u001b[0m\u001b[1;33m\u001b[0m\u001b[1;33m\u001b[0m\u001b[0m\n\u001b[0m\u001b[0;32m     68\u001b[0m \u001b[1;33m\u001b[0m\u001b[0m\n\u001b[0;32m     69\u001b[0m                 \u001b[1;31m#Make lowercase with capitalised first letter\u001b[0m\u001b[1;33m\u001b[0m\u001b[1;33m\u001b[0m\u001b[1;33m\u001b[0m\u001b[0m\n",
      "\u001b[1;32m~\\anaconda3\\lib\\site-packages\\ipykernel\\kernelbase.py\u001b[0m in \u001b[0;36mraw_input\u001b[1;34m(self, prompt)\u001b[0m\n\u001b[0;32m   1175\u001b[0m                 \u001b[1;34m\"raw_input was called, but this frontend does not support input requests.\"\u001b[0m\u001b[1;33m\u001b[0m\u001b[1;33m\u001b[0m\u001b[0m\n\u001b[0;32m   1176\u001b[0m             )\n\u001b[1;32m-> 1177\u001b[1;33m         return self._input_request(\n\u001b[0m\u001b[0;32m   1178\u001b[0m             \u001b[0mstr\u001b[0m\u001b[1;33m(\u001b[0m\u001b[0mprompt\u001b[0m\u001b[1;33m)\u001b[0m\u001b[1;33m,\u001b[0m\u001b[1;33m\u001b[0m\u001b[1;33m\u001b[0m\u001b[0m\n\u001b[0;32m   1179\u001b[0m             \u001b[0mself\u001b[0m\u001b[1;33m.\u001b[0m\u001b[0m_parent_ident\u001b[0m\u001b[1;33m[\u001b[0m\u001b[1;34m\"shell\"\u001b[0m\u001b[1;33m]\u001b[0m\u001b[1;33m,\u001b[0m\u001b[1;33m\u001b[0m\u001b[1;33m\u001b[0m\u001b[0m\n",
      "\u001b[1;32m~\\anaconda3\\lib\\site-packages\\ipykernel\\kernelbase.py\u001b[0m in \u001b[0;36m_input_request\u001b[1;34m(self, prompt, ident, parent, password)\u001b[0m\n\u001b[0;32m   1217\u001b[0m             \u001b[1;32mexcept\u001b[0m \u001b[0mKeyboardInterrupt\u001b[0m\u001b[1;33m:\u001b[0m\u001b[1;33m\u001b[0m\u001b[1;33m\u001b[0m\u001b[0m\n\u001b[0;32m   1218\u001b[0m                 \u001b[1;31m# re-raise KeyboardInterrupt, to truncate traceback\u001b[0m\u001b[1;33m\u001b[0m\u001b[1;33m\u001b[0m\u001b[1;33m\u001b[0m\u001b[0m\n\u001b[1;32m-> 1219\u001b[1;33m                 \u001b[1;32mraise\u001b[0m \u001b[0mKeyboardInterrupt\u001b[0m\u001b[1;33m(\u001b[0m\u001b[1;34m\"Interrupted by user\"\u001b[0m\u001b[1;33m)\u001b[0m \u001b[1;32mfrom\u001b[0m \u001b[1;32mNone\u001b[0m\u001b[1;33m\u001b[0m\u001b[1;33m\u001b[0m\u001b[0m\n\u001b[0m\u001b[0;32m   1220\u001b[0m             \u001b[1;32mexcept\u001b[0m \u001b[0mException\u001b[0m\u001b[1;33m:\u001b[0m\u001b[1;33m\u001b[0m\u001b[1;33m\u001b[0m\u001b[0m\n\u001b[0;32m   1221\u001b[0m                 \u001b[0mself\u001b[0m\u001b[1;33m.\u001b[0m\u001b[0mlog\u001b[0m\u001b[1;33m.\u001b[0m\u001b[0mwarning\u001b[0m\u001b[1;33m(\u001b[0m\u001b[1;34m\"Invalid Message:\"\u001b[0m\u001b[1;33m,\u001b[0m \u001b[0mexc_info\u001b[0m\u001b[1;33m=\u001b[0m\u001b[1;32mTrue\u001b[0m\u001b[1;33m)\u001b[0m\u001b[1;33m\u001b[0m\u001b[1;33m\u001b[0m\u001b[0m\n",
      "\u001b[1;31mKeyboardInterrupt\u001b[0m: Interrupted by user"
     ]
    }
   ],
   "source": [
    "#Install initial dependencies\n",
    "#!pip install -r requirements.txt\n",
    "\n",
    "#Import top level function\n",
    "from process_user_inputs import run_wordle_solver\n",
    "\n",
    "#Run wordle solver\n",
    "solution=run_wordle_solver(mode=\"real\",next_word_selection=\"rank\")\n",
    "\n",
    "#Options for \"mode\": \"real\", \"one_word\", \"100_words\", \"all_words\"\n",
    "#Options for \"next_word_selection\": \"random\",\"rank\",\"brute_force_simple\",\"brute_force_extended\"\n",
    "\n",
    "#Note:\n",
    "# -- \"real\" runs the wordle solver to help solve the real wordle of the day\n",
    "# -- \"one_word\" runs the wordle solver for just one specific word\n",
    "# -- \"100_words\" runs the wordle solver for 100 words. this is for initial testing, and is...\n",
    "#    ...much quicker to run than \"all_words\"\n",
    "# -- \"all_words\" runs the wordle solver across all available 5-letter...\n",
    "#    ...words. This is used to assess overall performance. \n",
    "\n",
    "#If using \"one_word\" mode, then the attributes of the solution object are:\n",
    "# - solution.actual_word = the actual word that we are trying to solve, which is currently randomly selected\n",
    "# - solution.final_guess = the word that we thing is the actual word, based on the output of our algorithms\n",
    "# - solution.n_guesses = the total number of guesses that it has taken to get to the final guess\n",
    "# - solution.t_solve = the total number of time that it has taken to get to the final guess\n",
    "\n",
    "#If using \"all_words\" or \"100_words\" mode, then the attributes of the solution object are:\n",
    "# - solution.n_guesses_all_words = a list of the number of guesses that it took to solve each word\n",
    "# - solution.t_solve_all_words = the total time that it took to solve all words in the dataset\n",
    "# - solution.basic_stats = basic descriptive statistics on the number of guesses for all words, including average and range"
   ]
  }
 ],
 "metadata": {
  "kernelspec": {
   "display_name": "Python 3 (ipykernel)",
   "language": "python",
   "name": "python3"
  },
  "language_info": {
   "codemirror_mode": {
    "name": "ipython",
    "version": 3
   },
   "file_extension": ".py",
   "mimetype": "text/x-python",
   "name": "python",
   "nbconvert_exporter": "python",
   "pygments_lexer": "ipython3",
   "version": "3.8.5"
  }
 },
 "nbformat": 4,
 "nbformat_minor": 5
}
