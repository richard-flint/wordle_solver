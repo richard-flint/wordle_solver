{
 "cells": [
  {
   "cell_type": "markdown",
   "id": "e439d356",
   "metadata": {},
   "source": [
    "# Wordle Solver\n",
    "**Summary:** This Python script aims to solve the daily [Wordle](https://www.nytimes.com/games/wordle/index.html) puzzle as effectively as possible."
   ]
  },
  {
   "cell_type": "markdown",
   "id": "56091788",
   "metadata": {},
   "source": [
    "**To do:**\n",
    "- You can sometimes reduce the uncertainty more by using a word that is definitely not the right answer, but includes more relevant letters than the remaining possible words\n",
    "- When playing the actual wordle game, if a letter appears elsewhere in a word and is green, then the same letter in other positions will be \"red\" as opposed to \"orange\". This sometimes throws an error.\n",
    "- The actual game uses dark and light grey as opposed to red."
   ]
  },
  {
   "cell_type": "code",
   "execution_count": 1,
   "id": "0b8f0916",
   "metadata": {
    "tags": []
   },
   "outputs": [
    {
     "name": "stdout",
     "output_type": "stream",
     "text": [
      "Requirement already satisfied: english-words in c:\\users\\richa\\anaconda3\\lib\\site-packages (from -r requirements.txt (line 5)) (1.1.0)\n",
      "Requirement already satisfied: plotly in c:\\users\\richa\\anaconda3\\lib\\site-packages (from -r requirements.txt (line 6)) (5.5.0)\n",
      "Requirement already satisfied: progressbar2 in c:\\users\\richa\\anaconda3\\lib\\site-packages (from -r requirements.txt (line 7)) (4.0.0)\n",
      "Requirement already satisfied: flask in c:\\users\\richa\\anaconda3\\lib\\site-packages (from -r requirements.txt (line 8)) (2.0.2)\n",
      "Requirement already satisfied: click>=7.1.2 in c:\\users\\richa\\anaconda3\\lib\\site-packages (from flask->-r requirements.txt (line 8)) (8.0.1)\n",
      "Requirement already satisfied: itsdangerous>=2.0 in c:\\users\\richa\\anaconda3\\lib\\site-packages (from flask->-r requirements.txt (line 8)) (2.0.1)\n",
      "Requirement already satisfied: Werkzeug>=2.0 in c:\\users\\richa\\anaconda3\\lib\\site-packages (from flask->-r requirements.txt (line 8)) (2.0.1)\n",
      "Requirement already satisfied: Jinja2>=3.0 in c:\\users\\richa\\anaconda3\\lib\\site-packages (from flask->-r requirements.txt (line 8)) (3.0.1)\n",
      "Requirement already satisfied: colorama in c:\\users\\richa\\anaconda3\\lib\\site-packages (from click>=7.1.2->flask->-r requirements.txt (line 8)) (0.4.4)\n",
      "Requirement already satisfied: MarkupSafe>=2.0 in c:\\users\\richa\\anaconda3\\lib\\site-packages (from Jinja2>=3.0->flask->-r requirements.txt (line 8)) (2.0.1)\n",
      "Requirement already satisfied: six in c:\\users\\richa\\anaconda3\\lib\\site-packages (from plotly->-r requirements.txt (line 6)) (1.16.0)\n",
      "Requirement already satisfied: tenacity>=6.2.0 in c:\\users\\richa\\anaconda3\\lib\\site-packages (from plotly->-r requirements.txt (line 6)) (8.0.1)\n",
      "Requirement already satisfied: python-utils>=3.0.0 in c:\\users\\richa\\anaconda3\\lib\\site-packages (from progressbar2->-r requirements.txt (line 7)) (3.3.3)\n"
     ]
    },
    {
     "name": "stderr",
     "output_type": "stream",
     "text": [
      "C:\\Users\\richa\\anaconda3\\lib\\site-packages\\numpy\\_distributor_init.py:30: UserWarning: loaded more than 1 DLL from .libs:\n",
      "C:\\Users\\richa\\anaconda3\\lib\\site-packages\\numpy\\.libs\\libopenblas.PYQHXLVVQ7VESDPUVUADXEVJOBGHJPAY.gfortran-win_amd64.dll\n",
      "C:\\Users\\richa\\anaconda3\\lib\\site-packages\\numpy\\.libs\\libopenblas.XWYDX2IKJW2NMTWSFYNGFUWKQU3LYTCZ.gfortran-win_amd64.dll\n",
      "  warnings.warn(\"loaded more than 1 DLL from .libs:\\n%s\" %\n"
     ]
    },
    {
     "name": "stdout",
     "output_type": "stream",
     "text": [
      "The final guess is:  deere\n",
      "The actual word is:  deere\n",
      "Number of guesses:  3\n",
      "Time taken to solve:  0.03125 s\n",
      "Estimated time to run on 100 words:  3.0 s, or  0.05  minutes\n",
      "Estimated time to run on all words:  100.0 s, or  1.67  minutes, or 0.03  hours\n"
     ]
    }
   ],
   "source": [
    "#Install initial dependencies\n",
    "!pip install -r requirements.txt\n",
    "\n",
    "#Import top level function\n",
    "from process_user_inputs import run_wordle_solver\n",
    "\n",
    "#Run wordle solver\n",
    "solution=run_wordle_solver(mode=\"one_word\",next_word_selection=\"random\",rag_colours=None)\n",
    "\n",
    "#Options for \"mode\": \"real\", \"one_word\", \"100_words\", \"all_words\"\n",
    "#Options for \"next_word_selection\": \"random\",\"rank\",\"brute_force_simple\",\"brute_force_extended\"\n",
    "\n",
    "#Note:\n",
    "# -- \"real\" runs the wordle solver to help solve the real wordle of the day\n",
    "# -- \"one_word\" runs the wordle solver for just one specific word\n",
    "# -- \"100_words\" runs the wordle solver for 100 words. this is for initial testing, and is...\n",
    "#    ...much quicker to run than \"all_words\"\n",
    "# -- \"all_words\" runs the wordle solver across all available 5-letter...\n",
    "#    ...words. This is used to assess overall performance. \n",
    "\n",
    "#If using \"one_word\" mode, then the attributes of the solution object are:\n",
    "# - solution.actual_word = the actual word that we are trying to solve, which is currently randomly selected\n",
    "# - solution.final_guess = the word that we thing is the actual word, based on the output of our algorithms\n",
    "# - solution.n_guesses = the total number of guesses that it has taken to get to the final guess\n",
    "# - solution.t_solve = the total number of time that it has taken to get to the final guess\n",
    "\n",
    "#If using \"all_words\" or \"100_words\" mode, then the attributes of the solution object are:\n",
    "# - solution.n_guesses_all_words = a list of the number of guesses that it took to solve each word\n",
    "# - solution.t_solve_all_words = the total time that it took to solve all words in the dataset\n",
    "# - solution.basic_stats = basic descriptive statistics on the number of guesses for all words, including average and range"
   ]
  },
  {
   "cell_type": "code",
   "execution_count": 1,
   "id": "0582e979-163f-4a73-83f9-ebe860c30237",
   "metadata": {},
   "outputs": [
    {
     "name": "stdout",
     "output_type": "stream",
     "text": [
      "hello\n"
     ]
    }
   ],
   "source": [
    "accepted_inputs=[\"Green\",\"G\",\"Orange\",\"O\",\"Red\",\"R\",\"Grey\"]\n",
    "my_input=\"Green\"\n",
    "if my_input in accepted_inputs:\n",
    "    print(\"hello\")"
   ]
  },
  {
   "cell_type": "code",
   "execution_count": 3,
   "id": "97410209-5444-4acc-9e6f-4de42514e7ff",
   "metadata": {},
   "outputs": [
    {
     "name": "stdout",
     "output_type": "stream",
     "text": [
      "1\n",
      "2\n"
     ]
    }
   ],
   "source": [
    "count=0\n",
    "count+=1\n",
    "print(count)\n",
    "count+=1\n",
    "print(count)"
   ]
  }
 ],
 "metadata": {
  "kernelspec": {
   "display_name": "Python 3 (ipykernel)",
   "language": "python",
   "name": "python3"
  },
  "language_info": {
   "codemirror_mode": {
    "name": "ipython",
    "version": 3
   },
   "file_extension": ".py",
   "mimetype": "text/x-python",
   "name": "python",
   "nbconvert_exporter": "python",
   "pygments_lexer": "ipython3",
   "version": "3.8.5"
  }
 },
 "nbformat": 4,
 "nbformat_minor": 5
}
