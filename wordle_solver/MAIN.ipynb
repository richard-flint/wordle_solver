{
 "cells": [
  {
   "cell_type": "markdown",
   "id": "8da1cf16-d486-46d8-974e-0468d8f24688",
   "metadata": {},
   "source": [
    "# Wordle Solver\n",
    "**Summary:** This Python script aims to solve the daily Wordle puzzle as effectively as possible."
   ]
  },
  {
   "cell_type": "markdown",
   "id": "c68837a6-2327-4fc7-ba02-c76e750b4ba5",
   "metadata": {},
   "source": [
    "**To do:**\n",
    "- [item]"
   ]
  },
  {
   "cell_type": "code",
   "execution_count": 6,
   "id": "83bb44c9-420f-4614-a972-87742303d3d2",
   "metadata": {
    "tags": []
   },
   "outputs": [
    {
     "ename": "SyntaxError",
     "evalue": "invalid syntax (install_dependencies.py, line 4)",
     "output_type": "error",
     "traceback": [
      "Traceback \u001b[1;36m(most recent call last)\u001b[0m:\n",
      "  File \u001b[0;32m\"C:\\Users\\richa\\anaconda3\\lib\\site-packages\\IPython\\core\\interactiveshell.py\"\u001b[0m, line \u001b[0;32m3553\u001b[0m, in \u001b[0;35mrun_code\u001b[0m\n    exec(code_obj, self.user_global_ns, self.user_ns)\n",
      "\u001b[1;36m  File \u001b[1;32m\"C:\\Users\\richa\\AppData\\Local\\Temp\\ipykernel_5008\\3925533917.py\"\u001b[1;36m, line \u001b[1;32m2\u001b[1;36m, in \u001b[1;35m<cell line: 2>\u001b[1;36m\u001b[0m\n\u001b[1;33m    import install_dependencies\u001b[0m\n",
      "\u001b[1;36m  File \u001b[1;32m\"C:\\Users\\richa\\OneDrive\\Desktop\\WORK\\Wordle Solver\\install_dependencies.py\"\u001b[1;36m, line \u001b[1;32m4\u001b[0m\n\u001b[1;33m    !pip install english-words\u001b[0m\n\u001b[1;37m    ^\u001b[0m\n\u001b[1;31mSyntaxError\u001b[0m\u001b[1;31m:\u001b[0m invalid syntax\n"
     ]
    }
   ],
   "source": [
    "#Install initial dependencies\n",
    "!pip install -r requirements.txt\n",
    "\n",
    "#Import top level function\n",
    "from process_user_inputs import run_wordle_solver\n",
    "\n",
    "#Run wordle solver\n",
    "solution=run_wordle_solver(mode=\"100_words\",next_word_selection=\"rank\")\n",
    "\n",
    "#Options for \"mode\": \"one_word\", \"100_words\", \"all_words\"\n",
    "#Options for \"next_word_selection\": \"random\",\"rank\",\"brute_force_simple\",\"brute_force_extended\"\n",
    "\n",
    "#Note:\n",
    "# -- \"one_word\" runs the wordle solver for just one specific word\n",
    "# -- \"100_words\" runs the wordle solver for 100 words. this is for initial testing, and is...\n",
    "#    ...much quicker to run than \"all_words\"\n",
    "# -- \"all_words\" runs the wordle solver across all available 5-letter...\n",
    "#    ...words. This is used to assess overall performance. \n",
    "\n",
    "#If using \"one_word\" mode, then the attributes of the solution object are:\n",
    "# - solution.actual_word = the actual word that we are trying to solve, which is currently randomly selected\n",
    "# - solution.final_guess = the word that we thing is the actual word, based on the output of our algorithms\n",
    "# - solution.n_guesses = the total number of guesses that it has taken to get to the final guess\n",
    "# - solution.t_solve = the total number of time that it has taken to get to the final guess\n",
    "\n",
    "#If using \"all_words\" or \"100_words\" mode, then the attributes of the solution object are:\n",
    "# - solution.n_guesses_all_words = a list of the number of guesses that it took to solve each word\n",
    "# - solution.t_solve_all_words = the total time that it took to solve all words in the dataset\n",
    "# - solution.basic_stats = basic descriptive statistics on the number of guesses for all words, including average and range"
   ]
  }
 ],
 "metadata": {
  "kernelspec": {
   "display_name": "Python 3 (ipykernel)",
   "language": "python",
   "name": "python3"
  },
  "language_info": {
   "codemirror_mode": {
    "name": "ipython",
    "version": 3
   },
   "file_extension": ".py",
   "mimetype": "text/x-python",
   "name": "python",
   "nbconvert_exporter": "python",
   "pygments_lexer": "ipython3",
   "version": "3.8.5"
  }
 },
 "nbformat": 4,
 "nbformat_minor": 5
}
